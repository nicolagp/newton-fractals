{
 "cells": [
  {
   "cell_type": "code",
   "execution_count": 1,
   "metadata": {},
   "outputs": [],
   "source": [
    "from scipy.optimize import newton\n",
    "import numpy as np\n",
    "import cmath\n",
    "import matplotlib.pyplot as plt"
   ]
  },
  {
   "cell_type": "code",
   "execution_count": 136,
   "metadata": {},
   "outputs": [],
   "source": [
    "# def f(z):\n",
    "#     return pow(z, 3) + z\n",
    "# def f_prime(z):\n",
    "#     return 3*pow(z,2) + 1\n",
    "# roots = [complex(0,0), complex(0, 1), complex(0, -1)]\n",
    "\n",
    "def f(z):\n",
    "    return (pow(z,2)-1)*(pow(z,2)+1)\n",
    "\n",
    "def f_prime(z):\n",
    "    return 4*pow(z,3)\n",
    "\n",
    "roots = [complex(0,1), complex(0, -1), complex(1, 0), complex(-1, 0)]\n"
   ]
  },
  {
   "cell_type": "code",
   "execution_count": 67,
   "metadata": {},
   "outputs": [],
   "source": [
    "def id_root(zl,rlist):\n",
    "    findgoal = 1.e-10 * np.ones(len(zl))\n",
    "    rootid = -1 * np.ones(len(zl))\n",
    "    for r in rlist:\n",
    "        # check for closeness to each root in the list\n",
    "        rootid = np.where(np.abs(zl-r* np.ones(len(zl))) < findgoal, np.ones(len(zl)) * rlist.index(r), rootid)\n",
    "            \n",
    "    return rootid"
   ]
  },
  {
   "cell_type": "code",
   "execution_count": 108,
   "metadata": {},
   "outputs": [],
   "source": [
    "def get_map(f, f_prime, roots, n):\n",
    "    result = np.zeros(shape=(n,n), dtype=complex)\n",
    "    points = np.linspace(-2, 2, n)\n",
    "    row = 0\n",
    "    for i in points:\n",
    "        col = 0\n",
    "        for j in points:\n",
    "            try:\n",
    "                result[row][col] = newton(f, complex(i, j), f_prime)\n",
    "            except RuntimeError:\n",
    "                result[row][col] = np.nan\n",
    "            col+=1\n",
    "        row+=1\n",
    "    return id_root(result, roots)"
   ]
  },
  {
   "cell_type": "code",
   "execution_count": 139,
   "metadata": {},
   "outputs": [
    {
     "name": "stderr",
     "output_type": "stream",
     "text": [
      "C:\\Users\\nicol\\Anaconda3\\envs\\math499\\lib\\site-packages\\ipykernel_launcher.py:6: RuntimeWarning: invalid value encountered in less\n",
      "  \n"
     ]
    }
   ],
   "source": [
    "mat = get_map(f, f_prime, roots,1000)"
   ]
  },
  {
   "cell_type": "code",
   "execution_count": 140,
   "metadata": {},
   "outputs": [
    {
     "data": {
      "image/png": "[encoded data removed]",
      "text/plain": [
       "<Figure size 288x288 with 1 Axes>"
      ]
     },
     "metadata": {},
     "output_type": "display_data"
    }
   ],
   "source": [
    "plt.matshow(mat, cmap=\"winter\")\n",
    "plt.ylabel(\"$Im(z)$\")\n",
    "plt.xlabel(\"$Re(z)$\")\n",
    "plt.title(\"$f(z) = z^4-1$\")\n",
    "plt.xticks([])\n",
    "plt.yticks([])\n",
    "plt.savefig(\"1.png\")"
   ]
  },
  {
   "cell_type": "code",
   "execution_count": 16,
   "metadata": {},
   "outputs": [
    {
     "data": {
      "text/plain": [
       "array([[-100.+0.j, -100.+0.j, -100.+0.j, ...,  100.+0.j,  100.+0.j,\n",
       "         100.+0.j],\n",
       "       [-100.+0.j, -100.+0.j, -100.+0.j, ...,  100.+0.j,  100.+0.j,\n",
       "         100.+0.j],\n",
       "       [-100.+0.j, -100.+0.j, -100.+0.j, ...,  100.+0.j,  100.+0.j,\n",
       "         100.+0.j],\n",
       "       ...,\n",
       "       [-100.+0.j, -100.+0.j, -100.+0.j, ...,  100.+0.j,  100.+0.j,\n",
       "         100.+0.j],\n",
       "       [-100.+0.j, -100.+0.j, -100.+0.j, ...,  100.+0.j,  100.+0.j,\n",
       "         100.+0.j],\n",
       "       [-100.+0.j, -100.+0.j, -100.+0.j, ...,  100.+0.j,  100.+0.j,\n",
       "         100.+0.j]])"
      ]
     },
     "execution_count": 16,
     "metadata": {},
     "output_type": "execute_result"
    }
   ],
   "source": [
    "result*100"
   ]
  },
  {
   "cell_type": "code",
   "execution_count": null,
   "metadata": {},
   "outputs": [],
   "source": []
  }
 ],
 "metadata": {
  "kernelspec": {
   "display_name": "Python 3",
   "language": "python",
   "name": "python3"
  },
  "language_info": {
   "codemirror_mode": {
    "name": "ipython",
    "version": 3
   },
   "file_extension": ".py",
   "mimetype": "text/x-python",
   "name": "python",
   "nbconvert_exporter": "python",
   "pygments_lexer": "ipython3",
   "version": "3.7.4"
  }
 },
 "nbformat": 4,
 "nbformat_minor": 2
}
